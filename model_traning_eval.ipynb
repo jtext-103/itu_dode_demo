{
 "cells": [
  {
   "attachments": {},
   "cell_type": "markdown",
   "metadata": {
    "ExecuteTime": {
     "end_time": "2023-07-28T03:34:21.599852300Z",
     "start_time": "2023-07-28T03:34:21.569942Z"
    }
   },
   "source": [
    "# Disruption prediction model training demo\n",
    "\n",
    " this notebook shows how to build a ML mode to predict disruption and\n",
    " generating a result csv file for evaluation.\n",
    "\n",
    " Note, this is a toy model build with little J-TEXT data. You are expecting to train the model with lots of J-TEXT, HL-2A and a few C-mod data, then generating testing result csv file using the C-Mod evaluation data.\n",
    " \n",
    " this depends on the output FileRepo of basic_data_processing.py\n"
   ]
  },
  {
   "cell_type": "code",
   "execution_count": 1,
   "metadata": {
    "ExecuteTime": {
     "end_time": "2023-07-28T03:34:21.632741800Z",
     "start_time": "2023-07-28T03:34:21.587892600Z"
    }
   },
   "outputs": [
    {
     "name": "stderr",
     "output_type": "stream",
     "text": [
      "c:\\Users\\zhengwei\\Anaconda3\\envs\\experiment\\lib\\site-packages\\numpy\\_distributor_init.py:30: UserWarning: loaded more than 1 DLL from .libs:\n",
      "c:\\Users\\zhengwei\\Anaconda3\\envs\\experiment\\lib\\site-packages\\numpy\\.libs\\libopenblas.4SP5SUA7CBGXUEOC35YP2ASOICYYEQZZ.gfortran-win_amd64.dll\n",
      "c:\\Users\\zhengwei\\Anaconda3\\envs\\experiment\\lib\\site-packages\\numpy\\.libs\\libopenblas.EL2C6PLE4ZYW3ECEVIV3OXXGRN2NRFM2.gfortran-win_amd64.dll\n",
      "c:\\Users\\zhengwei\\Anaconda3\\envs\\experiment\\lib\\site-packages\\numpy\\.libs\\libopenblas64__v0.3.23-246-g3d31191b-gcc_10_3_0.dll\n",
      "  warnings.warn(\"loaded more than 1 DLL from .libs:\"\n",
      "c:\\Users\\zhengwei\\Anaconda3\\envs\\experiment\\lib\\site-packages\\scipy\\__init__.py:146: UserWarning: A NumPy version >=1.17.3 and <1.25.0 is required for this version of SciPy (detected version 1.25.2\n",
      "  warnings.warn(f\"A NumPy version >={np_minversion} and <{np_maxversion}\"\n",
      "<frozen importlib._bootstrap>:228: RuntimeWarning: scipy._lib.messagestream.MessageStream size changed, may indicate binary incompatibility. Expected 56 from C header, got 64 from PyObject\n"
     ]
    }
   ],
   "source": [
    "import matplotlib.pyplot as plt\n",
    "import seaborn as sns\n",
    "import numpy as np\n",
    "import lightgbm as lgb\n",
    "import pandas as pd\n",
    "import os\n",
    "from sklearn.model_selection import train_test_split\n",
    "from sklearn.metrics import confusion_matrix\n",
    "from jddb.performance import Result\n",
    "from jddb.performance import Report\n",
    "from jddb.file_repo import FileRepo\n",
    "\n"
   ]
  },
  {
   "attachments": {},
   "cell_type": "markdown",
   "metadata": {},
   "source": [
    "\n",
    "## build training data from file repo\n",
    "\n",
    "The below defined functions are used to generate model specific samples. The algorithms used in the toy model is LightGBM.\n",
    "\n",
    "`matrix_build` Note, this function built nparray objects that can be used directly for the LightGBM training from the processed Filerepo. This is very import for getting samples ready for the model training.\n",
    "\n",
    "It extract each time step in the time series data, put every channel expect alarm_tag in x, the alarm_tag is the y.\n",
    "\n",
    "`get_shot_result` get disruption prediction result on shot using the output of the model on one shot"
   ]
  },
  {
   "cell_type": "code",
   "execution_count": 3,
   "metadata": {
    "ExecuteTime": {
     "end_time": "2023-07-28T03:34:21.633738700Z",
     "start_time": "2023-07-28T03:34:21.619785400Z"
    }
   },
   "outputs": [],
   "source": [
    "# this function built nparray objects that can be used directly for the LightGBM training from the processed Filerepo\n",
    "def matrix_build(shot_list, file_repo, tags):\n",
    "    \"\"\"\n",
    "    get x and y from file_repo by shots and tags\n",
    "    Args:\n",
    "        shot_list: shots for data matrix\n",
    "        file_repo:\n",
    "        tags: tags from file_repo\n",
    "\n",
    "    Returns: matrix of x and y\n",
    "\n",
    "    \"\"\"\n",
    "    x_set = np.empty([0, len(tags) - 1])\n",
    "    y_set = np.empty([0])\n",
    "    for shot in shot_list:\n",
    "        shot = int(shot)\n",
    "        x_data = file_repo.read_data(shot, tags)\n",
    "        y_data = file_repo.read_data(shot, ['alarm_tag'])\n",
    "        x_data.pop('alarm_tag', None)\n",
    "        res = np.array(list(x_data.values())).T\n",
    "        res_y = np.array(list(y_data.values())).T.flatten()\n",
    "        x_set = np.append(x_set, res, axis=0)\n",
    "        y_set = np.append(y_set, res_y, axis=0)\n",
    "    return x_set, y_set\n",
    "\n",
    "# get disruption prediction result on shot using the output of the model on one shot\n",
    "def get_shot_result(y_pred, threshold_sample):\n",
    "    \"\"\"\n",
    "    get shot result by a threshold and compare to start time\n",
    "    Args:\n",
    "        y_pred: sample result from model\n",
    "        threshold_sample: disruptive predict level\n",
    "\n",
    "    Returns:\n",
    "        shot predict result:The prediction result for the shot\n",
    "\n",
    "    \"\"\"\n",
    "    binary_result = 1 * (y_pred >= threshold_sample)\n",
    "    for k in range(len(binary_result) - 2):\n",
    "        if np.sum(binary_result[k:k + 3]) == 3:\n",
    "            predicted_dis = 1\n",
    "            break\n",
    "        else:\n",
    "            predicted_dis = 0\n",
    "    return predicted_dis\n",
    "\n"
   ]
  },
  {
   "attachments": {},
   "cell_type": "markdown",
   "metadata": {},
   "source": [
    "## Load all the data from the precessed filerepo and to the test and train split\n",
    "\n",
    "### Load the data"
   ]
  },
  {
   "cell_type": "code",
   "execution_count": 4,
   "metadata": {
    "ExecuteTime": {
     "end_time": "2023-07-28T03:34:21.677721700Z",
     "start_time": "2023-07-28T03:34:21.632741800Z"
    }
   },
   "outputs": [
    {
     "name": "stdout",
     "output_type": "stream",
     "text": [
      "53\n"
     ]
    }
   ],
   "source": [
    "test_file_repo = FileRepo(\n",
    "    \".//data//jtext_data_train//$shot_2$00//\")\n",
    "test_shot_list = test_file_repo.get_all_shots()\n",
    "print(len(test_shot_list))\n",
    "tag_list = test_file_repo.get_tag_list(test_shot_list[0])\n",
    "# disruption tag for dataset split\n",
    "is_disrupt = []\n",
    "for shot in test_shot_list:\n",
    "    dis_label = test_file_repo.read_labels(shot, ['IsDisrupt'])\n",
    "    is_disrupt.append(dis_label['IsDisrupt'])\n"
   ]
  },
  {
   "attachments": {},
   "cell_type": "markdown",
   "metadata": {},
   "source": [
    "## build model specific data\n",
    "\n",
    "Below with create sample for the model training and inference.\n",
    "\n",
    "### Train test split\n",
    "\n",
    "train test split on shot not sample according to whether shots are disruption.\n",
    "\n",
    "set test_size=0.5 to get 50% shots as test set\n",
    "\n",
    "Then use the `matrix_build` to get training sample x and y from the shot time series data."
   ]
  },
  {
   "cell_type": "code",
   "execution_count": 5,
   "metadata": {
    "ExecuteTime": {
     "end_time": "2023-07-28T03:34:52.959999700Z",
     "start_time": "2023-07-28T03:34:21.678714700Z"
    }
   },
   "outputs": [],
   "source": [
    "# train test split on shot not sample according to whether shots are disruption\n",
    "# set test_size=0.5 to get 50% shots as test set\n",
    "train_shots, test_shots, _, _ = \\\n",
    "    train_test_split(test_shot_list, is_disrupt, test_size=0.2,\n",
    "                        random_state=1, shuffle=True, stratify=is_disrupt)\n",
    "\n",
    "# # create x and y matrix for ML models\n",
    "# # %%\n",
    "X_train, y_train = matrix_build(train_shots, test_file_repo, tag_list)\n",
    "X_test, y_test = matrix_build(test_shots, test_file_repo, tag_list)\n",
    "lgb_train = lgb.Dataset(X_train, y_train)  # create dataset for LightGBM\n",
    "lgb_val = lgb.Dataset(X_test, y_test)  # create dataset for LightGBM\n"
   ]
  },
  {
   "attachments": {},
   "cell_type": "markdown",
   "metadata": {},
   "source": [
    "## Build the LightGBM model"
   ]
  },
  {
   "cell_type": "code",
   "execution_count": 6,
   "metadata": {
    "ExecuteTime": {
     "end_time": "2023-07-28T03:34:52.960999400Z",
     "start_time": "2023-07-28T03:34:21.904927300Z"
    }
   },
   "outputs": [
    {
     "name": "stdout",
     "output_type": "stream",
     "text": [
      "Starting training...\n",
      "[LightGBM] [Info] Number of positive: 1322, number of negative: 8222\n",
      "[LightGBM] [Warning] Auto-choosing col-wise multi-threading, the overhead of testing was 0.002109 seconds.\n",
      "You can set `force_col_wise=true` to remove the overhead.\n",
      "[LightGBM] [Info] Total Bins 8644\n",
      "[LightGBM] [Info] Number of data points in the train set: 9544, number of used features: 34\n",
      "[LightGBM] [Info] [binary:BoostFromScore]: pavg=0.138516 -> initscore=-1.827668\n",
      "[LightGBM] [Info] Start training from score -1.827668\n",
      "[1]\ttraining's auc: 0.979819\tvalid_0's auc: 0.724213\n",
      "Training until validation scores don't improve for 30 rounds\n",
      "[2]\ttraining's auc: 0.990634\tvalid_0's auc: 0.782385\n",
      "[3]\ttraining's auc: 0.991654\tvalid_0's auc: 0.791654\n",
      "[4]\ttraining's auc: 0.99298\tvalid_0's auc: 0.828375\n",
      "[5]\ttraining's auc: 0.993799\tvalid_0's auc: 0.847642\n",
      "[6]\ttraining's auc: 0.995554\tvalid_0's auc: 0.849433\n",
      "[7]\ttraining's auc: 0.997142\tvalid_0's auc: 0.850075\n",
      "[8]\ttraining's auc: 0.997228\tvalid_0's auc: 0.841008\n",
      "[9]\ttraining's auc: 0.997451\tvalid_0's auc: 0.838676\n",
      "[10]\ttraining's auc: 0.997768\tvalid_0's auc: 0.837061\n",
      "[11]\ttraining's auc: 0.998089\tvalid_0's auc: 0.837357\n",
      "[12]\ttraining's auc: 0.998436\tvalid_0's auc: 0.833894\n",
      "[13]\ttraining's auc: 0.998726\tvalid_0's auc: 0.833518\n",
      "[14]\ttraining's auc: 0.998972\tvalid_0's auc: 0.829004\n",
      "[15]\ttraining's auc: 0.99906\tvalid_0's auc: 0.82604\n",
      "[16]\ttraining's auc: 0.999532\tvalid_0's auc: 0.824875\n",
      "[17]\ttraining's auc: 0.999625\tvalid_0's auc: 0.833231\n",
      "[18]\ttraining's auc: 0.999677\tvalid_0's auc: 0.839749\n",
      "[19]\ttraining's auc: 0.999688\tvalid_0's auc: 0.840116\n",
      "[20]\ttraining's auc: 0.999691\tvalid_0's auc: 0.842992\n",
      "[21]\ttraining's auc: 0.999789\tvalid_0's auc: 0.844539\n",
      "[22]\ttraining's auc: 0.999838\tvalid_0's auc: 0.843598\n",
      "[23]\ttraining's auc: 0.99985\tvalid_0's auc: 0.845542\n",
      "[24]\ttraining's auc: 0.999868\tvalid_0's auc: 0.846753\n",
      "[25]\ttraining's auc: 0.999879\tvalid_0's auc: 0.853365\n",
      "[26]\ttraining's auc: 0.99988\tvalid_0's auc: 0.853199\n",
      "[27]\ttraining's auc: 0.999883\tvalid_0's auc: 0.853035\n",
      "[28]\ttraining's auc: 0.999886\tvalid_0's auc: 0.854134\n",
      "[29]\ttraining's auc: 0.999929\tvalid_0's auc: 0.854309\n",
      "[30]\ttraining's auc: 0.999945\tvalid_0's auc: 0.854462\n",
      "[31]\ttraining's auc: 0.999962\tvalid_0's auc: 0.855565\n",
      "[32]\ttraining's auc: 0.999972\tvalid_0's auc: 0.854314\n",
      "[33]\ttraining's auc: 0.999987\tvalid_0's auc: 0.848947\n",
      "[34]\ttraining's auc: 0.999991\tvalid_0's auc: 0.848602\n",
      "[35]\ttraining's auc: 0.999992\tvalid_0's auc: 0.849749\n",
      "[36]\ttraining's auc: 0.999993\tvalid_0's auc: 0.849881\n",
      "[37]\ttraining's auc: 0.999994\tvalid_0's auc: 0.851294\n",
      "[38]\ttraining's auc: 0.999995\tvalid_0's auc: 0.847558\n",
      "[39]\ttraining's auc: 0.999997\tvalid_0's auc: 0.848873\n",
      "[40]\ttraining's auc: 0.999998\tvalid_0's auc: 0.850918\n",
      "[41]\ttraining's auc: 0.999999\tvalid_0's auc: 0.849852\n",
      "[42]\ttraining's auc: 0.999999\tvalid_0's auc: 0.849075\n",
      "[43]\ttraining's auc: 0.999999\tvalid_0's auc: 0.846782\n",
      "[44]\ttraining's auc: 1\tvalid_0's auc: 0.847033\n",
      "[45]\ttraining's auc: 1\tvalid_0's auc: 0.848211\n",
      "[46]\ttraining's auc: 1\tvalid_0's auc: 0.846557\n",
      "[47]\ttraining's auc: 1\tvalid_0's auc: 0.844881\n",
      "[48]\ttraining's auc: 1\tvalid_0's auc: 0.844323\n",
      "[49]\ttraining's auc: 1\tvalid_0's auc: 0.843627\n",
      "[50]\ttraining's auc: 1\tvalid_0's auc: 0.843305\n",
      "[51]\ttraining's auc: 1\tvalid_0's auc: 0.841995\n",
      "[52]\ttraining's auc: 1\tvalid_0's auc: 0.841032\n",
      "[53]\ttraining's auc: 1\tvalid_0's auc: 0.840059\n",
      "[54]\ttraining's auc: 1\tvalid_0's auc: 0.839344\n",
      "[55]\ttraining's auc: 1\tvalid_0's auc: 0.839218\n",
      "[56]\ttraining's auc: 1\tvalid_0's auc: 0.841807\n",
      "[57]\ttraining's auc: 1\tvalid_0's auc: 0.840708\n",
      "[58]\ttraining's auc: 1\tvalid_0's auc: 0.841065\n",
      "[59]\ttraining's auc: 1\tvalid_0's auc: 0.84514\n",
      "[60]\ttraining's auc: 1\tvalid_0's auc: 0.84461\n",
      "[61]\ttraining's auc: 1\tvalid_0's auc: 0.848354\n",
      "Early stopping, best iteration is:\n",
      "[31]\ttraining's auc: 0.999962\tvalid_0's auc: 0.855565\n"
     ]
    },
    {
     "name": "stderr",
     "output_type": "stream",
     "text": [
      "c:\\Users\\zhengwei\\Anaconda3\\envs\\experiment\\lib\\site-packages\\lightgbm\\engine.py:181: UserWarning: 'early_stopping_rounds' argument is deprecated and will be removed in a future release of LightGBM. Pass 'early_stopping()' callback via 'callbacks' argument instead.\n",
      "  _log_warning(\"'early_stopping_rounds' argument is deprecated and will be removed in a future release of LightGBM. \"\n",
      "c:\\Users\\zhengwei\\Anaconda3\\envs\\experiment\\lib\\site-packages\\lightgbm\\engine.py:260: UserWarning: 'evals_result' argument is deprecated and will be removed in a future release of LightGBM. Pass 'record_evaluation()' callback via 'callbacks' argument instead.\n",
      "  _log_warning(\"'evals_result' argument is deprecated and will be removed in a future release of LightGBM. \"\n"
     ]
    }
   ],
   "source": [
    "# hyper-parameters\n",
    "params = {\n",
    "    'boosting_type': 'gbdt',\n",
    "    'objective': 'binary',\n",
    "    'metric': {'auc'},\n",
    "\n",
    "    'is_unbalance': True\n",
    "\n",
    "}\n",
    "evals_result = {}  # to record eval results for plotting\n",
    "print('Starting training...')\n",
    "# train\n",
    "gbm = lgb.train(params,\n",
    "                lgb_train,\n",
    "                num_boost_round=300,\n",
    "                valid_sets={lgb_train, lgb_val},\n",
    "                evals_result=evals_result,\n",
    "                early_stopping_rounds=30)\n"
   ]
  },
  {
   "attachments": {},
   "cell_type": "markdown",
   "metadata": {},
   "source": [
    "## Save the results for evaluation\n",
    "\n",
    "save sample result to a dict, so when predicting shot with different trigging logic. Trigger logic is whe you have positive prediction for a sample, it does not means raising an alarm for the shot. You may want to count for a few positives in a roll to trigger the alarm.\n",
    "\n",
    "It you want to test different trigger logic, you don't have to re-infer the test shots"
   ]
  },
  {
   "cell_type": "code",
   "execution_count": 9,
   "metadata": {
    "ExecuteTime": {
     "end_time": "2023-07-28T03:34:52.961996700Z",
     "start_time": "2023-07-28T03:34:22.214867700Z"
    }
   },
   "outputs": [],
   "source": [
    "# generate predictions for each shot\n",
    "shot_nos = test_shots  # shot list\n",
    "shots_pred_disrurption = []  # shot predict result\n",
    "shots_true_disruption = [ ]  # shot true disruption label\n",
    "shots_pred_disruption_time = []  # shot predict time\n",
    "for shot in test_shots:\n",
    "    true_disruption = 0 if test_file_repo.read_labels(shot)[\"IsDisrupt\"] == False else 1\n",
    "    shots_true_disruption.append(true_disruption)\n",
    "\n",
    "    X, _ = matrix_build([shot], test_file_repo, tag_list)\n",
    "    # get sample result from LightGBM\n",
    "    y_pred = gbm.predict(X, num_iteration=gbm.best_iteration)\n",
    "\n",
    "    # using the sample reulst to predict disruption on shot\n",
    "    predicted_disruption = get_shot_result(y_pred, .5)  # get shot result by a threshold\n",
    "    shots_pred_disrurption.append(predicted_disruption)\n",
    "\n",
    "# add predictions for each shot to the result dataframe\n",
    "pred_result = pd.DataFrame({'Shot': shot_nos,\n",
    "                            'shot_pred': shots_pred_disrurption})\n",
    "pred_result.to_csv(r'.\\_temp_test\\test_result.csv')"
   ]
  },
  {
   "attachments": {},
   "cell_type": "markdown",
   "metadata": {},
   "source": [
    "## Evaluate the result using confusion matrix"
   ]
  },
  {
   "cell_type": "code",
   "execution_count": 10,
   "metadata": {
    "ExecuteTime": {
     "end_time": "2023-07-28T03:34:52.973955500Z",
     "start_time": "2023-07-28T03:34:23.245777100Z"
    }
   },
   "outputs": [
    {
     "data": {
      "image/png": "[encoded data removed]",
      "text/plain": [
       "<Figure size 432x288 with 2 Axes>"
      ]
     },
     "metadata": {
      "needs_background": "light"
     },
     "output_type": "display_data"
    }
   ],
   "source": [
    "# %% plot some of the result: confusion matrix\n",
    "matrix = confusion_matrix(shots_true_disruption, shots_pred_disrurption)\n",
    "sns.heatmap(matrix, annot=True, cmap=\"Blues\", fmt='.0f')\n",
    "plt.xlabel(\"Predicted labels\")\n",
    "plt.ylabel(\"True labels\")\n",
    "plt.title(\"Confusion Matrix\")\n",
    "# plt.savefig(os.path.join('..//_temp_test//', 'Confusion Matrix.png'), dpi=300)\n",
    "plt.show()\n"
   ]
  }
 ],
 "metadata": {
  "kernelspec": {
   "display_name": "Python 3",
   "language": "python",
   "name": "python3"
  },
  "language_info": {
   "codemirror_mode": {
    "name": "ipython",
    "version": 3
   },
   "file_extension": ".py",
   "mimetype": "text/x-python",
   "name": "python",
   "nbconvert_exporter": "python",
   "pygments_lexer": "ipython3",
   "version": "3.9.2"
  },
  "orig_nbformat": 4
 },
 "nbformat": 4,
 "nbformat_minor": 2
}
