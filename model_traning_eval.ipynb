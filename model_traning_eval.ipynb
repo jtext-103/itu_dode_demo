{
 "cells": [
  {
   "attachments": {},
   "cell_type": "markdown",
   "metadata": {
    "ExecuteTime": {
     "end_time": "2023-07-28T03:34:21.599852300Z",
     "start_time": "2023-07-28T03:34:21.569942Z"
    }
   },
   "source": [
    "# Disruption prediction model training demo\n",
    "\n",
    " this notebook shows how to build a ML mode to predict disruption and\n",
    " generating a result csv file for evaluation.\n",
    "\n",
    " Note, this is a toy model build with little J-TEXT data. You are expecting to train the model with lots of J-TEXT, HL-2A and a few C-mod data, then generating testing result csv file using the C-Mod evaluation data.\n",
    " \n",
    " this depends on the output FileRepo of basic_data_processing.py\n"
   ]
  },
  {
   "cell_type": "code",
   "execution_count": 5,
   "metadata": {
    "ExecuteTime": {
     "end_time": "2023-07-28T03:34:21.632741800Z",
     "start_time": "2023-07-28T03:34:21.587892600Z"
    }
   },
   "outputs": [],
   "source": [
    "import matplotlib.pyplot as plt\n",
    "import seaborn as sns\n",
    "import numpy as np\n",
    "import lightgbm as lgb\n",
    "import pandas as pd\n",
    "import os\n",
    "from sklearn.model_selection import train_test_split\n",
    "from sklearn.metrics import confusion_matrix\n",
    "from jddb.performance import Result\n",
    "from jddb.performance import Report\n",
    "from jddb.file_repo import FileRepo\n",
    "\n"
   ]
  },
  {
   "attachments": {},
   "cell_type": "markdown",
   "metadata": {},
   "source": [
    "\n",
    "## build training data from file repo\n",
    "\n",
    "The below defined functions are used to generate model specific samples. The algorithms used in the toy model is LightGBM.\n",
    "\n",
    "`matrix_build` Note, this function built nparray objects that can be used directly for the LightGBM training from the processed Filerepo. This is very import for getting samples ready for the model training.\n",
    "\n",
    "It extract each time step in the time series data, put every channel expect alarm_tag in x, the alarm_tag is the y.\n",
    "\n",
    "`get_shot_result` get disruption prediction result on shot using the output of the model on one shot"
   ]
  },
  {
   "cell_type": "code",
   "execution_count": 6,
   "metadata": {
    "ExecuteTime": {
     "end_time": "2023-07-28T03:34:21.633738700Z",
     "start_time": "2023-07-28T03:34:21.619785400Z"
    }
   },
   "outputs": [],
   "source": [
    "# this function built nparray objects that can be used directly for the LightGBM training from the processed Filerepo\n",
    "def matrix_build(shot_list, file_repo, tags):\n",
    "    \"\"\"\n",
    "    get x and y from file_repo by shots and tags\n",
    "    Args:\n",
    "        shot_list: shots for data matrix\n",
    "        file_repo:\n",
    "        tags: tags from file_repo\n",
    "\n",
    "    Returns: matrix of x and y\n",
    "\n",
    "    \"\"\"\n",
    "    x_set = np.empty([0, len(tags) - 1])\n",
    "    y_set = np.empty([0])\n",
    "    for shot in shot_list:\n",
    "        shot = int(shot)\n",
    "        x_data = file_repo.read_data(shot, tags)\n",
    "        y_data = file_repo.read_data(shot, ['alarm_tag'])\n",
    "        x_data.pop('alarm_tag', None)\n",
    "        res = np.array(list(x_data.values())).T\n",
    "        res_y = np.array(list(y_data.values())).T.flatten()\n",
    "        x_set = np.append(x_set, res, axis=0)\n",
    "        y_set = np.append(y_set, res_y, axis=0)\n",
    "    return x_set, y_set\n",
    "\n",
    "# get disruption prediction result on shot using the output of the model on one shot\n",
    "def get_shot_result(y_pred, threshold_sample):\n",
    "    \"\"\"\n",
    "    get shot result by a threshold and compare to start time\n",
    "    Args:\n",
    "        y_pred: sample result from model\n",
    "        threshold_sample: disruptive predict level\n",
    "\n",
    "    Returns:\n",
    "        shot predict result:The prediction result for the shot\n",
    "\n",
    "    \"\"\"\n",
    "    binary_result = 1 * (y_pred >= threshold_sample)\n",
    "    for k in range(len(binary_result) - 2):\n",
    "        if np.sum(binary_result[k:k + 3]) == 3:\n",
    "            predicted_dis = 1\n",
    "            break\n",
    "        else:\n",
    "            predicted_dis = 0\n",
    "    return predicted_dis\n",
    "\n"
   ]
  },
  {
   "attachments": {},
   "cell_type": "markdown",
   "metadata": {},
   "source": [
    "## Load all the data from the precessed filerepo and to the test and train split\n",
    "\n",
    "### Load the data"
   ]
  },
  {
   "cell_type": "code",
   "execution_count": 7,
   "metadata": {
    "ExecuteTime": {
     "end_time": "2023-07-28T03:34:21.677721700Z",
     "start_time": "2023-07-28T03:34:21.632741800Z"
    }
   },
   "outputs": [
    {
     "name": "stdout",
     "output_type": "stream",
     "text": [
      "53\n"
     ]
    }
   ],
   "source": [
    "test_file_repo = FileRepo(\n",
    "    \".//data//jtext_data_train//$shot_2$00//\")\n",
    "test_shot_list = test_file_repo.get_all_shots()\n",
    "print(len(test_shot_list))\n",
    "tag_list = test_file_repo.get_tag_list(test_shot_list[0])\n",
    "# disruption tag for dataset split\n",
    "is_disrupt = []\n",
    "for shot in test_shot_list:\n",
    "    dis_label = test_file_repo.read_labels(shot, ['IsDisrupt'])\n",
    "    is_disrupt.append(dis_label['IsDisrupt'])\n"
   ]
  },
  {
   "attachments": {},
   "cell_type": "markdown",
   "metadata": {},
   "source": [
    "## build model specific data\n",
    "\n",
    "Below with create sample for the model training and inference.\n",
    "\n",
    "### Train test split\n",
    "\n",
    "train test split on shot not sample according to whether shots are disruption.\n",
    "\n",
    "set test_size=0.5 to get 50% shots as test set\n",
    "\n",
    "Then use the `matrix_build` to get training sample x and y from the shot time series data."
   ]
  },
  {
   "cell_type": "code",
   "execution_count": 8,
   "metadata": {
    "ExecuteTime": {
     "end_time": "2023-07-28T03:34:52.959999700Z",
     "start_time": "2023-07-28T03:34:21.678714700Z"
    }
   },
   "outputs": [],
   "source": [
    "# train test split on shot not sample according to whether shots are disruption\n",
    "# set test_size=0.5 to get 50% shots as test set\n",
    "train_shots, test_shots, _, _ = \\\n",
    "    train_test_split(test_shot_list, is_disrupt, test_size=0.2,\n",
    "                        random_state=1, shuffle=True, stratify=is_disrupt)\n",
    "\n",
    "# # create x and y matrix for ML models\n",
    "# # %%\n",
    "X_train, y_train = matrix_build(train_shots, test_file_repo, tag_list)\n",
    "X_test, y_test = matrix_build(test_shots, test_file_repo, tag_list)\n",
    "lgb_train = lgb.Dataset(X_train, y_train)  # create dataset for LightGBM\n",
    "lgb_val = lgb.Dataset(X_test, y_test)  # create dataset for LightGBM\n"
   ]
  },
  {
   "attachments": {},
   "cell_type": "markdown",
   "metadata": {},
   "source": [
    "## Build the LightGBM model"
   ]
  },
  {
   "cell_type": "code",
   "execution_count": 9,
   "metadata": {
    "ExecuteTime": {
     "end_time": "2023-07-28T03:34:52.960999400Z",
     "start_time": "2023-07-28T03:34:21.904927300Z"
    }
   },
   "outputs": [
    {
     "name": "stdout",
     "output_type": "stream",
     "text": [
      "Starting training...\n",
      "[1]\ttraining's auc: 0.981264\tvalid_0's auc: 0.718115\n",
      "Training until validation scores don't improve for 30 rounds\n",
      "[2]\ttraining's auc: 0.987736\tvalid_0's auc: 0.743042\n",
      "[3]\ttraining's auc: 0.991201\tvalid_0's auc: 0.797131\n",
      "[4]\ttraining's auc: 0.992872\tvalid_0's auc: 0.816225\n",
      "[5]\ttraining's auc: 0.993417\tvalid_0's auc: 0.833102\n",
      "[6]\ttraining's auc: 0.995221\tvalid_0's auc: 0.837178\n",
      "[7]\ttraining's auc: 0.995796\tvalid_0's auc: 0.833327\n",
      "[8]\ttraining's auc: 0.996484\tvalid_0's auc: 0.826451\n",
      "[9]\ttraining's auc: 0.996614\tvalid_0's auc: 0.832534\n",
      "[10]\ttraining's auc: 0.997677\tvalid_0's auc: 0.836251\n",
      "[11]\ttraining's auc: 0.997887\tvalid_0's auc: 0.836468\n",
      "[12]\ttraining's auc: 0.998054\tvalid_0's auc: 0.838838\n",
      "[13]\ttraining's auc: 0.998176\tvalid_0's auc: 0.834829\n",
      "[14]\ttraining's auc: 0.998271\tvalid_0's auc: 0.834775\n",
      "[15]\ttraining's auc: 0.99866\tvalid_0's auc: 0.838337\n",
      "[16]\ttraining's auc: 0.998754\tvalid_0's auc: 0.84514\n",
      "[17]\ttraining's auc: 0.999406\tvalid_0's auc: 0.84377\n",
      "[18]\ttraining's auc: 0.999456\tvalid_0's auc: 0.844248\n",
      "[19]\ttraining's auc: 0.999614\tvalid_0's auc: 0.849425\n",
      "[20]\ttraining's auc: 0.999657\tvalid_0's auc: 0.847452\n",
      "[21]\ttraining's auc: 0.999674\tvalid_0's auc: 0.848883\n",
      "[22]\ttraining's auc: 0.999721\tvalid_0's auc: 0.850514\n",
      "[23]\ttraining's auc: 0.99982\tvalid_0's auc: 0.852342\n",
      "[24]\ttraining's auc: 0.999867\tvalid_0's auc: 0.854322\n",
      "[25]\ttraining's auc: 0.999894\tvalid_0's auc: 0.855293\n",
      "[26]\ttraining's auc: 0.999911\tvalid_0's auc: 0.85692\n",
      "[27]\ttraining's auc: 0.999929\tvalid_0's auc: 0.85702\n",
      "[28]\ttraining's auc: 0.999948\tvalid_0's auc: 0.85614\n",
      "[29]\ttraining's auc: 0.99996\tvalid_0's auc: 0.856833\n",
      "[30]\ttraining's auc: 0.999965\tvalid_0's auc: 0.852858\n",
      "[31]\ttraining's auc: 0.999973\tvalid_0's auc: 0.851548\n",
      "[32]\ttraining's auc: 0.999978\tvalid_0's auc: 0.853013\n",
      "[33]\ttraining's auc: 0.999981\tvalid_0's auc: 0.852796\n",
      "[34]\ttraining's auc: 0.999985\tvalid_0's auc: 0.852019\n",
      "[35]\ttraining's auc: 0.999987\tvalid_0's auc: 0.851209\n",
      "[36]\ttraining's auc: 0.999988\tvalid_0's auc: 0.852313\n",
      "[37]\ttraining's auc: 0.99999\tvalid_0's auc: 0.850388\n",
      "[38]\ttraining's auc: 0.999992\tvalid_0's auc: 0.846515\n",
      "[39]\ttraining's auc: 0.999995\tvalid_0's auc: 0.873718\n",
      "[40]\ttraining's auc: 0.999997\tvalid_0's auc: 0.872304\n",
      "[41]\ttraining's auc: 0.999998\tvalid_0's auc: 0.871825\n",
      "[42]\ttraining's auc: 0.999999\tvalid_0's auc: 0.870991\n",
      "[43]\ttraining's auc: 0.999999\tvalid_0's auc: 0.869882\n",
      "[44]\ttraining's auc: 1\tvalid_0's auc: 0.879275\n",
      "[45]\ttraining's auc: 1\tvalid_0's auc: 0.877769\n",
      "[46]\ttraining's auc: 1\tvalid_0's auc: 0.876555\n",
      "[47]\ttraining's auc: 1\tvalid_0's auc: 0.879365\n",
      "[48]\ttraining's auc: 1\tvalid_0's auc: 0.8781\n",
      "[49]\ttraining's auc: 1\tvalid_0's auc: 0.878617\n",
      "[50]\ttraining's auc: 1\tvalid_0's auc: 0.879658\n",
      "[51]\ttraining's auc: 1\tvalid_0's auc: 0.878556\n",
      "[52]\ttraining's auc: 1\tvalid_0's auc: 0.87879\n",
      "[53]\ttraining's auc: 1\tvalid_0's auc: 0.878353\n",
      "[54]\ttraining's auc: 1\tvalid_0's auc: 0.880386\n",
      "[55]\ttraining's auc: 1\tvalid_0's auc: 0.880364\n",
      "[56]\ttraining's auc: 1\tvalid_0's auc: 0.87863\n",
      "[57]\ttraining's auc: 1\tvalid_0's auc: 0.877369\n",
      "[58]\ttraining's auc: 1\tvalid_0's auc: 0.876796\n",
      "[59]\ttraining's auc: 1\tvalid_0's auc: 0.877124\n",
      "[60]\ttraining's auc: 1\tvalid_0's auc: 0.8762\n",
      "[61]\ttraining's auc: 1\tvalid_0's auc: 0.87714\n",
      "[62]\ttraining's auc: 1\tvalid_0's auc: 0.877854\n",
      "[63]\ttraining's auc: 1\tvalid_0's auc: 0.876166\n",
      "[64]\ttraining's auc: 1\tvalid_0's auc: 0.876691\n",
      "[65]\ttraining's auc: 1\tvalid_0's auc: 0.877257\n",
      "[66]\ttraining's auc: 1\tvalid_0's auc: 0.876605\n",
      "[67]\ttraining's auc: 1\tvalid_0's auc: 0.87516\n",
      "[68]\ttraining's auc: 1\tvalid_0's auc: 0.874836\n",
      "[69]\ttraining's auc: 1\tvalid_0's auc: 0.876503\n",
      "[70]\ttraining's auc: 1\tvalid_0's auc: 0.875734\n",
      "[71]\ttraining's auc: 1\tvalid_0's auc: 0.874021\n",
      "[72]\ttraining's auc: 1\tvalid_0's auc: 0.874209\n",
      "[73]\ttraining's auc: 1\tvalid_0's auc: 0.875341\n",
      "[74]\ttraining's auc: 1\tvalid_0's auc: 0.875101\n",
      "[75]\ttraining's auc: 1\tvalid_0's auc: 0.87505\n",
      "[76]\ttraining's auc: 1\tvalid_0's auc: 0.874797\n",
      "[77]\ttraining's auc: 1\tvalid_0's auc: 0.874848\n",
      "[78]\ttraining's auc: 1\tvalid_0's auc: 0.875559\n",
      "[79]\ttraining's auc: 1\tvalid_0's auc: 0.874802\n",
      "[80]\ttraining's auc: 1\tvalid_0's auc: 0.87415\n",
      "[81]\ttraining's auc: 1\tvalid_0's auc: 0.873962\n",
      "[82]\ttraining's auc: 1\tvalid_0's auc: 0.872734\n",
      "[83]\ttraining's auc: 1\tvalid_0's auc: 0.872278\n",
      "[84]\ttraining's auc: 1\tvalid_0's auc: 0.872239\n",
      "Early stopping, best iteration is:\n",
      "[54]\ttraining's auc: 1\tvalid_0's auc: 0.880386\n"
     ]
    }
   ],
   "source": [
    "# hyper-parameters\n",
    "params = {\n",
    "    'boosting_type': 'gbdt',\n",
    "    'objective': 'binary',\n",
    "    'metric': {'auc'},\n",
    "\n",
    "    'is_unbalance': True\n",
    "\n",
    "}\n",
    "evals_result = {}  # to record eval results for plotting\n",
    "print('Starting training...')\n",
    "# train\n",
    "gbm = lgb.train(params,\n",
    "                lgb_train,\n",
    "                num_boost_round=300,\n",
    "                valid_sets={lgb_train, lgb_val},\n",
    "                evals_result=evals_result,\n",
    "                early_stopping_rounds=30)\n"
   ]
  },
  {
   "attachments": {},
   "cell_type": "markdown",
   "metadata": {},
   "source": [
    "## Save the results for evaluation\n",
    "\n",
    "save sample result to a dict, so when predicting shot with different trigging logic. Trigger logic is whe you have positive prediction for a sample, it does not means raising an alarm for the shot. You may want to count for a few positives in a roll to trigger the alarm.\n",
    "\n",
    "It you want to test different trigger logic, you don't have to re-infer the test shots"
   ]
  },
  {
   "cell_type": "code",
   "execution_count": 10,
   "metadata": {
    "ExecuteTime": {
     "end_time": "2023-07-28T03:34:52.961996700Z",
     "start_time": "2023-07-28T03:34:22.214867700Z"
    }
   },
   "outputs": [
    {
     "name": "stdout",
     "output_type": "stream",
     "text": [
      "precision = 0.8538129598189022\n",
      "tpr = 0.8947368421052632\n"
     ]
    }
   ],
   "source": [
    "# generate predictions for each shot\n",
    "shot_nos = test_shots  # shot list\n",
    "shots_pred_disrurption = []  # shot predict result\n",
    "shots_true_disruption = [ ]  # shot true disruption label\n",
    "shots_pred_disruption_time = []  # shot predict time\n",
    "for shot in test_shots:\n",
    "    true_disruption = 0 if test_file_repo.read_labels(shot)[\"IsDisrupt\"] == False else 1\n",
    "    shots_true_disruption.append(true_disruption)\n",
    "\n",
    "    X, _ = matrix_build([shot], test_file_repo, tag_list)\n",
    "    # get sample result from LightGBM\n",
    "    y_pred = gbm.predict(X, num_iteration=gbm.best_iteration)\n",
    "\n",
    "    # using the sample reulst to predict disruption on shot\n",
    "    predicted_disruption = get_shot_result(y_pred, .5)  # get shot result by a threshold\n",
    "    shots_pred_disrurption.append(predicted_disruption)\n",
    "\n",
    "# add predictions for each shot to the result dataframe\n",
    "pred_result = pd.DataFrame({'Shot': shot_nos,\n",
    "                            'shot_pred': shots_pred_disrurption})\n",
    "pred_result.to_csv(r'..\\_temp_test\\test_result.csv')"
   ]
  },
  {
   "attachments": {},
   "cell_type": "markdown",
   "metadata": {},
   "source": [
    "## Evaluate the result using confusion matrix"
   ]
  },
  {
   "cell_type": "code",
   "execution_count": 11,
   "metadata": {
    "ExecuteTime": {
     "end_time": "2023-07-28T03:34:52.973955500Z",
     "start_time": "2023-07-28T03:34:23.245777100Z"
    }
   },
   "outputs": [
    {
     "data": {
      "image/png": "[encoded data removed]",
      "text/plain": [
       "<Figure size 432x288 with 2 Axes>"
      ]
     },
     "metadata": {
      "needs_background": "light"
     },
     "output_type": "display_data"
    },
    {
     "name": "stdout",
     "output_type": "stream",
     "text": [
      "[[0.1, 0.3), [0.1, 0.3), [0.1, 0.3), [0.1, 0.3), [0.1, 0.3), ..., [0.1, 0.3), [0.1, 0.3), [0.05, 0.1), [0.05, 0.1), [0.05, 0.1)]\n",
      "Length: 119\n",
      "Categories (5, interval[float64, left]): [[-1.0, 0.002) < [0.002, 0.01) < [0.01, 0.05) < [0.05, 0.1) < [0.1, 0.3)]\n"
     ]
    },
    {
     "data": {
      "image/png": "[encoded data removed]",
      "text/plain": [
       "<Figure size 720x504 with 1 Axes>"
      ]
     },
     "metadata": {
      "needs_background": "light"
     },
     "output_type": "display_data"
    },
    {
     "data": {
      "image/png": "[encoded data removed]",
      "text/plain": [
       "<Figure size 720x540 with 1 Axes>"
      ]
     },
     "metadata": {
      "needs_background": "light"
     },
     "output_type": "display_data"
    }
   ],
   "source": [
    "# %% plot some of the result: confusion matrix\n",
    "matrix = confusion_matrix(shots_true_disruption, shots_pred_disrurption)\n",
    "sns.heatmap(matrix, annot=True, cmap=\"Blues\", fmt='.0f')\n",
    "plt.xlabel(\"Predicted labels\")\n",
    "plt.ylabel(\"True labels\")\n",
    "plt.title(\"Confusion Matrix\")\n",
    "# plt.savefig(os.path.join('..//_temp_test//', 'Confusion Matrix.png'), dpi=300)\n",
    "plt.show()\n"
   ]
  }
 ],
 "metadata": {
  "kernelspec": {
   "display_name": "Python 3",
   "language": "python",
   "name": "python3"
  },
  "language_info": {
   "codemirror_mode": {
    "name": "ipython",
    "version": 3
   },
   "file_extension": ".py",
   "mimetype": "text/x-python",
   "name": "python",
   "nbconvert_exporter": "python",
   "pygments_lexer": "ipython3",
   "version": 3
  },
  "orig_nbformat": 4
 },
 "nbformat": 4,
 "nbformat_minor": 2
}
